{
 "cells": [
  {
   "cell_type": "code",
   "execution_count": 48,
   "id": "b4506a6e",
   "metadata": {
    "scrolled": true
   },
   "outputs": [
    {
     "name": "stderr",
     "output_type": "stream",
     "text": [
      "(ChipWhisperer NAEUSB WARNING|File naeusb.py:717) Your firmware (0.51) is outdated - latest is 0.53 See https://chipwhisperer.readthedocs.io/en/latest/firmware.html for more information\n"
     ]
    },
    {
     "name": "stdout",
     "output_type": "stream",
     "text": [
      "READ_CTRL: bmRequestType: C1,                     bRequest: 17, wValue: 0000, wIndex: 0000, data_len: 0003, response: bytearray(b'\\x003\\x00')\n",
      "READ_CTRL: bmRequestType: C1,                     bRequest: 15, wValue: 0000, wIndex: 0000, data_len: 0004, response: bytearray(b'\\x01\\x01\\x00\\x00')\n",
      "\n",
      "\n",
      "\n",
      "FPGA:50:status: bytearray(b'\\x01\\x01\\x00\\x00')\n",
      "READ_CTRL: bmRequestType: C1,                     bRequest: 30, wValue: 0000, wIndex: 0000, data_len: 0002, response: bytearray(b'\\x020')\n",
      "READ_CTRL: bmRequestType: C1,                     bRequest: 30, wValue: 0000, wIndex: 0000, data_len: 0002, response: bytearray(b'\\x020')\n",
      "READ_CTRL: bmRequestType: C1,                     bRequest: 30, wValue: 0000, wIndex: 0000, data_len: 0002, response: bytearray(b'\\x029')\n",
      "READ_CTRL: bmRequestType: C1,                     bRequest: 30, wValue: 0000, wIndex: 0000, data_len: 0002, response: bytearray(b'\\x029')\n",
      "READ_CTRL: bmRequestType: C1,                     bRequest: 30, wValue: 0000, wIndex: 0000, data_len: 0002, response: bytearray(b'\\x022')\n",
      "READ_CTRL: bmRequestType: C1,                     bRequest: 30, wValue: 0000, wIndex: 0000, data_len: 0002, response: bytearray(b'\\x022')\n",
      "READ_CTRL: bmRequestType: C1,                     bRequest: 30, wValue: 0000, wIndex: 0000, data_len: 0002, response: bytearray(b'\\x022')\n",
      "READ_CTRL: bmRequestType: C1,                     bRequest: 30, wValue: 0000, wIndex: 0000, data_len: 0002, response: bytearray(b'\\x022')\n",
      "READ_CTRL: bmRequestType: C1,                     bRequest: 30, wValue: 0000, wIndex: 0000, data_len: 0002, response: bytearray(b'\\x022')\n",
      "READ_CTRL: bmRequestType: C1,                     bRequest: 30, wValue: 0000, wIndex: 0000, data_len: 0002, response: bytearray(b'\\x029')\n",
      "READ_CTRL: bmRequestType: C1,                     bRequest: 30, wValue: 0000, wIndex: 0000, data_len: 0002, response: bytearray(b'\\x029')\n",
      "READ_CTRL: bmRequestType: C1,                     bRequest: 30, wValue: 0000, wIndex: 0000, data_len: 0002, response: bytearray(b'\\x02@')\n",
      "READ_CTRL: bmRequestType: C1,                     bRequest: 30, wValue: 0000, wIndex: 0000, data_len: 0002, response: bytearray(b'\\x02@')\n",
      "READ_CTRL: bmRequestType: C1,                     bRequest: 30, wValue: 0000, wIndex: 0000, data_len: 0002, response: bytearray(b'\\x02\\x0c')\n",
      "READ_CTRL: bmRequestType: C1,                     bRequest: 30, wValue: 0000, wIndex: 0000, data_len: 0002, response: bytearray(b'\\x02\\x0c')\n"
     ]
    }
   ],
   "source": [
    "import os, sys\n",
    "cw_lib_path = os.path.abspath('../../../../../../../software/')\n",
    "sys.path.append(cw_lib_path)\n",
    "import chipwhisperer as cw\n",
    "\n",
    "assert any('CW305 Artix FPGA Board' in dev.get('name') for dev in cw.list_devices()), print(\"FPGA not connected!\\n\", cw.list_devices())\n",
    "\n",
    "fpga = cw.target(None, cw.targets.CW305, fpga_id='100t') #for CW305_100t"
   ]
  },
  {
   "cell_type": "code",
   "execution_count": 61,
   "id": "c0df5a87",
   "metadata": {},
   "outputs": [],
   "source": [
    "io = fpga.gpio_mode()\n",
    "io.pin_set_output(\"USB_A12\")\n",
    "io.pin_set_output(\"USB_A14\")"
   ]
  },
  {
   "cell_type": "code",
   "execution_count": 63,
   "id": "7b052ce0",
   "metadata": {},
   "outputs": [],
   "source": [
    "SDA(off)"
   ]
  },
  {
   "cell_type": "code",
   "execution_count": null,
   "id": "a8b57c3b",
   "metadata": {},
   "outputs": [],
   "source": []
  }
 ],
 "metadata": {
  "kernelspec": {
   "display_name": "Python [conda env:tf] *",
   "language": "python",
   "name": "conda-env-tf-py"
  },
  "language_info": {
   "codemirror_mode": {
    "name": "ipython",
    "version": 3
   },
   "file_extension": ".py",
   "mimetype": "text/x-python",
   "name": "python",
   "nbconvert_exporter": "python",
   "pygments_lexer": "ipython3",
   "version": "3.9.15"
  }
 },
 "nbformat": 4,
 "nbformat_minor": 5
}
