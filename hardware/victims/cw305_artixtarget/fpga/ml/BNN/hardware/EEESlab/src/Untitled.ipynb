{
 "cells": [
  {
   "cell_type": "code",
   "execution_count": 5,
   "id": "b33550c6",
   "metadata": {},
   "outputs": [],
   "source": [
    "import larq as lq\n",
    "import tensorflow as tf"
   ]
  },
  {
   "cell_type": "code",
   "execution_count": 6,
   "id": "8309b5f8",
   "metadata": {},
   "outputs": [],
   "source": [
    "(train_images, train_labels), (test_images, test_labels) = tf.keras.datasets.mnist.load_data()\n",
    "\n",
    "train_images = train_images.reshape((60000, 28, 28, 1))\n",
    "test_images = test_images.reshape((10000, 28, 28, 1))\n",
    "\n",
    "# Normalize pixel values to be between -1 and 1\n",
    "train_images, test_images = train_images / 127.5 - 1, test_images / 127.5 - 1"
   ]
  },
  {
   "cell_type": "code",
   "execution_count": 13,
   "id": "7577b302",
   "metadata": {},
   "outputs": [],
   "source": [
    "kwargs = dict(input_quantizer=\"ste_sign\",\n",
    "              kernel_quantizer=\"ste_sign\",\n",
    "              kernel_constraint=\"weight_clip\")\n",
    "\n",
    "\n",
    "\n",
    "model = tf.keras.models.Sequential()\n",
    "model.add(lq.layers.QuantConv2D(32, (3, 3),\n",
    "                               kernel_quantizer=\"ste_sign\",\n",
    "                               kernel_constraint=\"weight_clip\",\n",
    "                               use_bias=False,\n",
    "                               input_shape=(28, 28, 1)))\n",
    "model.add(tf.keras.layers.MaxPooling2D((2, 2)))\n",
    "model.add(tf.keras.layers.BatchNormalization(scale=False))\n",
    "\n",
    "\n",
    "model.add(lq.layers.QuantConv2D(64, (3, 3), use_bias=False, **kwargs))\n",
    "model.add(tf.keras.layers.MaxPooling2D((2, 2)))\n",
    "model.add(tf.keras.layers.BatchNormalization(scale=False))\n",
    "\n",
    "model.add(lq.layers.QuantConv2D(64, (3, 3), use_bias=False, **kwargs))\n",
    "model.add(tf.keras.layers.BatchNormalization(scale=False))\n",
    "model.add(tf.keras.layers.Flatten())\n",
    "\n",
    "model.add(lq.layers.QuantDense(64, use_bias=False, **kwargs))\n",
    "model.add(tf.keras.layers.BatchNormalization(scale=False))\n",
    "model.add(lq.layers.QuantDense(10, use_bias=False, **kwargs))\n",
    "model.add(tf.keras.layers.BatchNormalization(scale=False))\n",
    "model.add(tf.keras.layers.Activation(\"softmax\"))"
   ]
  },
  {
   "cell_type": "code",
   "execution_count": 14,
   "id": "4d536722",
   "metadata": {},
   "outputs": [
    {
     "name": "stdout",
     "output_type": "stream",
     "text": [
      "+sequential_5 stats-----------------------------------------------------------------------------------------+\n",
      "| Layer                   Input prec.           Outputs  # 1-bit  # 32-bit  Memory  1-bit MACs  32-bit MACs |\n",
      "|                               (bit)                        x 1       x 1    (kB)                          |\n",
      "+-----------------------------------------------------------------------------------------------------------+\n",
      "| quant_conv2d_9                    -  (-1, 26, 26, 32)      288         0    0.04           0       194688 |\n",
      "| max_pooling2d_7                   -  (-1, 13, 13, 32)        0         0       0           0            0 |\n",
      "| batch_normalization_15            -  (-1, 13, 13, 32)        0        64    0.25           0            0 |\n",
      "| quant_conv2d_10                   1  (-1, 11, 11, 64)    18432         0    2.25     2230272            0 |\n",
      "| max_pooling2d_8                   -    (-1, 5, 5, 64)        0         0       0           0            0 |\n",
      "| batch_normalization_16            -    (-1, 5, 5, 64)        0       128    0.50           0            0 |\n",
      "| quant_conv2d_11                   1    (-1, 3, 3, 64)    36864         0    4.50      331776            0 |\n",
      "| batch_normalization_17            -    (-1, 3, 3, 64)        0       128    0.50           0            0 |\n",
      "| flatten_2                         -         (-1, 576)        0         0       0           0            0 |\n",
      "| quant_dense_6                     1          (-1, 64)    36864         0    4.50       36864            0 |\n",
      "| batch_normalization_18            -          (-1, 64)        0       128    0.50           0            0 |\n",
      "| quant_dense_7                     1          (-1, 10)      640         0    0.08         640            0 |\n",
      "| batch_normalization_19            -          (-1, 10)        0        20    0.08           0            0 |\n",
      "| activation_3                      -          (-1, 10)        0         0       0           ?            ? |\n",
      "+-----------------------------------------------------------------------------------------------------------+\n",
      "| Total                                                    93088       468   13.19     2599552       194688 |\n",
      "+-----------------------------------------------------------------------------------------------------------+\n",
      "+sequential_5 summary--------------------------+\n",
      "| Total params                      93.6 k     |\n",
      "| Trainable params                  93.1 k     |\n",
      "| Non-trainable params              468        |\n",
      "| Model size                        13.19 KiB  |\n",
      "| Model size (8-bit FP weights)     11.82 KiB  |\n",
      "| Float-32 Equivalent               365.45 KiB |\n",
      "| Compression Ratio of Memory       0.04       |\n",
      "| Number of MACs                    2.79 M     |\n",
      "| Ratio of MACs that are binarized  0.9303     |\n",
      "+----------------------------------------------+\n"
     ]
    }
   ],
   "source": [
    "lq.models.summary(model)"
   ]
  },
  {
   "cell_type": "code",
   "execution_count": null,
   "id": "f07b39ec",
   "metadata": {},
   "outputs": [],
   "source": []
  }
 ],
 "metadata": {
  "kernelspec": {
   "display_name": "Python [conda env:tf] *",
   "language": "python",
   "name": "conda-env-tf-py"
  },
  "language_info": {
   "codemirror_mode": {
    "name": "ipython",
    "version": 3
   },
   "file_extension": ".py",
   "mimetype": "text/x-python",
   "name": "python",
   "nbconvert_exporter": "python",
   "pygments_lexer": "ipython3",
   "version": "3.9.15"
  }
 },
 "nbformat": 4,
 "nbformat_minor": 5
}
