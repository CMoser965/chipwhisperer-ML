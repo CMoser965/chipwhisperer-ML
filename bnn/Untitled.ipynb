{
 "cells": [
  {
   "cell_type": "code",
   "execution_count": 4,
   "id": "1c8bd566",
   "metadata": {},
   "outputs": [
    {
     "ename": "ValueError",
     "evalue": "One of the dimensions in the output is <= 0 due to downsampling in first_conv2d. Consider increasing the input size. Received input shape [None, 1, 28, 28] which would produce output shape with a zero or negative value in a dimension.",
     "output_type": "error",
     "traceback": [
      "\u001b[0;31m---------------------------------------------------------------------------\u001b[0m",
      "\u001b[0;31mValueError\u001b[0m                                Traceback (most recent call last)",
      "Cell \u001b[0;32mIn[4], line 5\u001b[0m\n\u001b[1;32m      2\u001b[0m \u001b[38;5;28;01mfrom\u001b[39;00m \u001b[38;5;21;01mqkeras\u001b[39;00m \u001b[38;5;28;01mimport\u001b[39;00m \u001b[38;5;241m*\u001b[39m\n\u001b[1;32m      4\u001b[0m x \u001b[38;5;241m=\u001b[39m x_in \u001b[38;5;241m=\u001b[39m Input((\u001b[38;5;241m1\u001b[39m, \u001b[38;5;241m28\u001b[39m, \u001b[38;5;241m28\u001b[39m))\n\u001b[0;32m----> 5\u001b[0m x \u001b[38;5;241m=\u001b[39m \u001b[43mQConv2D\u001b[49m\u001b[43m(\u001b[49m\u001b[38;5;241;43m18\u001b[39;49m\u001b[43m,\u001b[49m\u001b[43m \u001b[49m\u001b[43m(\u001b[49m\u001b[38;5;241;43m3\u001b[39;49m\u001b[43m,\u001b[49m\u001b[43m \u001b[49m\u001b[38;5;241;43m3\u001b[39;49m\u001b[43m)\u001b[49m\u001b[43m,\u001b[49m\n\u001b[1;32m      6\u001b[0m \u001b[43m        \u001b[49m\u001b[43mkernel_quantizer\u001b[49m\u001b[38;5;241;43m=\u001b[39;49m\u001b[38;5;124;43m\"\u001b[39;49m\u001b[38;5;124;43mstochastic_ternary\u001b[39;49m\u001b[38;5;124;43m\"\u001b[39;49m\u001b[43m,\u001b[49m\n\u001b[1;32m      7\u001b[0m \u001b[43m        \u001b[49m\u001b[43mbias_quantizer\u001b[49m\u001b[38;5;241;43m=\u001b[39;49m\u001b[38;5;124;43m\"\u001b[39;49m\u001b[38;5;124;43mternary\u001b[39;49m\u001b[38;5;124;43m\"\u001b[39;49m\u001b[43m,\u001b[49m\u001b[43m \u001b[49m\u001b[43mname\u001b[49m\u001b[38;5;241;43m=\u001b[39;49m\u001b[38;5;124;43m\"\u001b[39;49m\u001b[38;5;124;43mfirst_conv2d\u001b[39;49m\u001b[38;5;124;43m\"\u001b[39;49m\u001b[43m)\u001b[49m\u001b[43m(\u001b[49m\u001b[43mx\u001b[49m\u001b[43m)\u001b[49m\n\u001b[1;32m      8\u001b[0m x \u001b[38;5;241m=\u001b[39m QActivation(\u001b[38;5;124m\"\u001b[39m\u001b[38;5;124mquantized_relu(3)\u001b[39m\u001b[38;5;124m\"\u001b[39m)(x)\n\u001b[1;32m      9\u001b[0m x \u001b[38;5;241m=\u001b[39m QSeparableConv2D(\u001b[38;5;241m32\u001b[39m, (\u001b[38;5;241m3\u001b[39m, \u001b[38;5;241m3\u001b[39m),\n\u001b[1;32m     10\u001b[0m         depthwise_quantizer\u001b[38;5;241m=\u001b[39mquantized_bits(\u001b[38;5;241m4\u001b[39m, \u001b[38;5;241m0\u001b[39m, \u001b[38;5;241m1\u001b[39m),\n\u001b[1;32m     11\u001b[0m         pointwise_quantizer\u001b[38;5;241m=\u001b[39mquantized_bits(\u001b[38;5;241m3\u001b[39m, \u001b[38;5;241m0\u001b[39m, \u001b[38;5;241m1\u001b[39m),\n\u001b[1;32m     12\u001b[0m         bias_quantizer\u001b[38;5;241m=\u001b[39mquantized_bits(\u001b[38;5;241m3\u001b[39m),\n\u001b[1;32m     13\u001b[0m         depthwise_activation\u001b[38;5;241m=\u001b[39mquantized_tanh(\u001b[38;5;241m6\u001b[39m, \u001b[38;5;241m2\u001b[39m, \u001b[38;5;241m1\u001b[39m))(x)\n",
      "File \u001b[0;32m~/miniconda3/envs/tf/lib/python3.9/site-packages/keras/utils/traceback_utils.py:70\u001b[0m, in \u001b[0;36mfilter_traceback.<locals>.error_handler\u001b[0;34m(*args, **kwargs)\u001b[0m\n\u001b[1;32m     67\u001b[0m     filtered_tb \u001b[38;5;241m=\u001b[39m _process_traceback_frames(e\u001b[38;5;241m.\u001b[39m__traceback__)\n\u001b[1;32m     68\u001b[0m     \u001b[38;5;66;03m# To get the full stack trace, call:\u001b[39;00m\n\u001b[1;32m     69\u001b[0m     \u001b[38;5;66;03m# `tf.debugging.disable_traceback_filtering()`\u001b[39;00m\n\u001b[0;32m---> 70\u001b[0m     \u001b[38;5;28;01mraise\u001b[39;00m e\u001b[38;5;241m.\u001b[39mwith_traceback(filtered_tb) \u001b[38;5;28;01mfrom\u001b[39;00m \u001b[38;5;28mNone\u001b[39m\n\u001b[1;32m     71\u001b[0m \u001b[38;5;28;01mfinally\u001b[39;00m:\n\u001b[1;32m     72\u001b[0m     \u001b[38;5;28;01mdel\u001b[39;00m filtered_tb\n",
      "File \u001b[0;32m~/miniconda3/envs/tf/lib/python3.9/site-packages/keras/layers/convolutional/base_conv.py:347\u001b[0m, in \u001b[0;36mConv.compute_output_shape\u001b[0;34m(self, input_shape)\u001b[0m\n\u001b[1;32m    340\u001b[0m         \u001b[38;5;28;01mreturn\u001b[39;00m tf\u001b[38;5;241m.\u001b[39mTensorShape(\n\u001b[1;32m    341\u001b[0m             input_shape[:batch_rank]\n\u001b[1;32m    342\u001b[0m             \u001b[38;5;241m+\u001b[39m [\u001b[38;5;28mself\u001b[39m\u001b[38;5;241m.\u001b[39mfilters]\n\u001b[1;32m    343\u001b[0m             \u001b[38;5;241m+\u001b[39m \u001b[38;5;28mself\u001b[39m\u001b[38;5;241m.\u001b[39m_spatial_output_shape(input_shape[batch_rank \u001b[38;5;241m+\u001b[39m \u001b[38;5;241m1\u001b[39m :])\n\u001b[1;32m    344\u001b[0m         )\n\u001b[1;32m    346\u001b[0m \u001b[38;5;28;01mexcept\u001b[39;00m \u001b[38;5;167;01mValueError\u001b[39;00m:\n\u001b[0;32m--> 347\u001b[0m     \u001b[38;5;28;01mraise\u001b[39;00m \u001b[38;5;167;01mValueError\u001b[39;00m(\n\u001b[1;32m    348\u001b[0m         \u001b[38;5;124m\"\u001b[39m\u001b[38;5;124mOne of the dimensions in the output is <= 0 \u001b[39m\u001b[38;5;124m\"\u001b[39m\n\u001b[1;32m    349\u001b[0m         \u001b[38;5;124mf\u001b[39m\u001b[38;5;124m\"\u001b[39m\u001b[38;5;124mdue to downsampling in \u001b[39m\u001b[38;5;132;01m{\u001b[39;00m\u001b[38;5;28mself\u001b[39m\u001b[38;5;241m.\u001b[39mname\u001b[38;5;132;01m}\u001b[39;00m\u001b[38;5;124m. Consider \u001b[39m\u001b[38;5;124m\"\u001b[39m\n\u001b[1;32m    350\u001b[0m         \u001b[38;5;124m\"\u001b[39m\u001b[38;5;124mincreasing the input size. \u001b[39m\u001b[38;5;124m\"\u001b[39m\n\u001b[1;32m    351\u001b[0m         \u001b[38;5;124mf\u001b[39m\u001b[38;5;124m\"\u001b[39m\u001b[38;5;124mReceived input shape \u001b[39m\u001b[38;5;132;01m{\u001b[39;00minput_shape\u001b[38;5;132;01m}\u001b[39;00m\u001b[38;5;124m which would produce \u001b[39m\u001b[38;5;124m\"\u001b[39m\n\u001b[1;32m    352\u001b[0m         \u001b[38;5;124m\"\u001b[39m\u001b[38;5;124moutput shape with a zero or negative value in a \u001b[39m\u001b[38;5;124m\"\u001b[39m\n\u001b[1;32m    353\u001b[0m         \u001b[38;5;124m\"\u001b[39m\u001b[38;5;124mdimension.\u001b[39m\u001b[38;5;124m\"\u001b[39m\n\u001b[1;32m    354\u001b[0m     )\n",
      "\u001b[0;31mValueError\u001b[0m: One of the dimensions in the output is <= 0 due to downsampling in first_conv2d. Consider increasing the input size. Received input shape [None, 1, 28, 28] which would produce output shape with a zero or negative value in a dimension."
     ]
    }
   ],
   "source": [
    "import tensorflow as tf\n",
    "from qkeras import *\n",
    "\n",
    "kwargs = dict(input_quantizer=\"ste_sign\",\n",
    "              kernel_quantizer=\"ste_sign\",\n",
    "              kernel_constraint=\"weight_clip\",\n",
    "              use_bias=False)\n",
    "\n",
    "model = tf.keras.models.Sequential([\n",
    "    lq.layers.QConv2D(128, 3,\n",
    "                          kernel_quantizer=\"ste_sign\",\n",
    "                          kernel_constraint=\"weight_clip\",\n",
    "                          use_bias=False,\n",
    "                          input_shape=(32, 32, 3)),\n",
    "    tf.keras.layers.BatchNormalization(momentum=0.999, scale=False),\n",
    "\n",
    "    lq.layers.QConv2D(128, 3, padding=\"same\", **kwargs),\n",
    "    tf.keras.layers.MaxPool2D(pool_size=(2, 2), strides=(2, 2)),\n",
    "    tf.keras.layers.BatchNormalization(momentum=0.999, scale=False),\n",
    "\n",
    "    lq.layers.QConv2D(256, 3, padding=\"same\", **kwargs),\n",
    "    tf.keras.layers.BatchNormalization(momentum=0.999, scale=False),\n",
    "\n",
    "    lq.layers.QConv2D(256, 3, padding=\"same\", **kwargs),\n",
    "    tf.keras.layers.MaxPool2D(pool_size=(2, 2), strides=(2, 2)),\n",
    "    tf.keras.layers.BatchNormalization(momentum=0.999, scale=False),\n",
    "\n",
    "    lq.layers.QConv2D(512, 3, padding=\"same\", **kwargs),\n",
    "    tf.keras.layers.BatchNormalization(momentum=0.999, scale=False),\n",
    "\n",
    "    lq.layers.QConv2D(512, 3, padding=\"same\", **kwargs),\n",
    "    tf.keras.layers.MaxPool2D(pool_size=(2, 2), strides=(2, 2)),\n",
    "    tf.keras.layers.BatchNormalization(momentum=0.999, scale=False),\n",
    "    tf.keras.layers.Flatten(),\n",
    "\n",
    "    lq.layers.QDense(1024, **kwargs),\n",
    "    tf.keras.layers.BatchNormalization(momentum=0.999, scale=False),\n",
    "\n",
    "    lq.layers.QDense(1024, **kwargs),\n",
    "    tf.keras.layers.BatchNormalization(momentum=0.999, scale=False),\n",
    "\n",
    "    lq.layers.QDense(10, **kwargs),\n",
    "    tf.keras.layers.BatchNormalization(momentum=0.999, scale=False),\n",
    "    tf.keras.layers.Activation(\"binary_tanh\")\n",
    "])"
   ]
  },
  {
   "cell_type": "code",
   "execution_count": 5,
   "id": "b744cdf9",
   "metadata": {},
   "outputs": [
    {
     "ename": "ModuleNotFoundError",
     "evalue": "No module named 'binary_ops'",
     "output_type": "error",
     "traceback": [
      "\u001b[0;31m---------------------------------------------------------------------------\u001b[0m",
      "\u001b[0;31mModuleNotFoundError\u001b[0m                       Traceback (most recent call last)",
      "Cell \u001b[0;32mIn[5], line 13\u001b[0m\n\u001b[1;32m     10\u001b[0m \u001b[38;5;28;01mfrom\u001b[39;00m \u001b[38;5;21;01mkeras\u001b[39;00m\u001b[38;5;21;01m.\u001b[39;00m\u001b[38;5;21;01mcallbacks\u001b[39;00m \u001b[38;5;28;01mimport\u001b[39;00m LearningRateScheduler\n\u001b[1;32m     11\u001b[0m \u001b[38;5;28;01mfrom\u001b[39;00m \u001b[38;5;21;01mkeras\u001b[39;00m\u001b[38;5;21;01m.\u001b[39;00m\u001b[38;5;21;01mutils\u001b[39;00m \u001b[38;5;28;01mimport\u001b[39;00m np_utils\n\u001b[0;32m---> 13\u001b[0m \u001b[38;5;28;01mfrom\u001b[39;00m \u001b[38;5;21;01mbinary_ops\u001b[39;00m \u001b[38;5;28;01mimport\u001b[39;00m binary_tanh \u001b[38;5;28;01mas\u001b[39;00m binary_tanh_op\n\u001b[1;32m     14\u001b[0m \u001b[38;5;28;01mfrom\u001b[39;00m \u001b[38;5;21;01mbinary_layers\u001b[39;00m \u001b[38;5;28;01mimport\u001b[39;00m BinaryDense\n\u001b[1;32m     17\u001b[0m \u001b[38;5;28;01mclass\u001b[39;00m \u001b[38;5;21;01mDropoutNoScale\u001b[39;00m(Dropout):\n",
      "\u001b[0;31mModuleNotFoundError\u001b[0m: No module named 'binary_ops'"
     ]
    }
   ],
   "source": []
  },
  {
   "cell_type": "code",
   "execution_count": 3,
   "id": "3886f979",
   "metadata": {},
   "outputs": [
    {
     "name": "stderr",
     "output_type": "stream",
     "text": [
      "WARNING:absl:`lr` is deprecated, please use `learning_rate` instead, or use the legacy optimizer, e.g.,tf.keras.optimizers.legacy.Adam.\n"
     ]
    },
    {
     "name": "stdout",
     "output_type": "stream",
     "text": [
      "Epoch 1/30\n",
      "487/487 [==============================] - 2s 1ms/step - loss: 1.2812 - accuracy: 0.5356 - val_loss: 1.0623 - val_accuracy: 0.6327\n",
      "Epoch 2/30\n",
      "487/487 [==============================] - 1s 1ms/step - loss: 1.0285 - accuracy: 0.6383 - val_loss: 1.0107 - val_accuracy: 0.6539\n",
      "Epoch 3/30\n",
      "487/487 [==============================] - 1s 1ms/step - loss: 0.9946 - accuracy: 0.6581 - val_loss: 1.0029 - val_accuracy: 0.6553\n",
      "Epoch 4/30\n",
      "487/487 [==============================] - 1s 1ms/step - loss: 0.9680 - accuracy: 0.6716 - val_loss: 0.9525 - val_accuracy: 0.6845\n",
      "Epoch 5/30\n",
      "487/487 [==============================] - 1s 1ms/step - loss: 0.9416 - accuracy: 0.6825 - val_loss: 0.9388 - val_accuracy: 0.6861\n",
      "Epoch 6/30\n",
      "487/487 [==============================] - 1s 1ms/step - loss: 0.9184 - accuracy: 0.6928 - val_loss: 0.9405 - val_accuracy: 0.6772\n",
      "Epoch 7/30\n",
      "487/487 [==============================] - 1s 1ms/step - loss: 0.8993 - accuracy: 0.7000 - val_loss: 0.9016 - val_accuracy: 0.7031\n",
      "Epoch 8/30\n",
      "487/487 [==============================] - 1s 1ms/step - loss: 0.8864 - accuracy: 0.7041 - val_loss: 0.8874 - val_accuracy: 0.7063\n",
      "Epoch 9/30\n",
      "487/487 [==============================] - 1s 1ms/step - loss: 0.8758 - accuracy: 0.7063 - val_loss: 0.9208 - val_accuracy: 0.6883\n",
      "Epoch 10/30\n",
      "487/487 [==============================] - 1s 1ms/step - loss: 0.8650 - accuracy: 0.7096 - val_loss: 0.8658 - val_accuracy: 0.7099\n",
      "Epoch 11/30\n",
      "487/487 [==============================] - 1s 1ms/step - loss: 0.8610 - accuracy: 0.7099 - val_loss: 0.8520 - val_accuracy: 0.7136\n",
      "Epoch 12/30\n",
      "487/487 [==============================] - 1s 1ms/step - loss: 0.8498 - accuracy: 0.7127 - val_loss: 0.8676 - val_accuracy: 0.7068\n",
      "Epoch 13/30\n",
      "487/487 [==============================] - 1s 1ms/step - loss: 0.8467 - accuracy: 0.7131 - val_loss: 0.8371 - val_accuracy: 0.7160\n",
      "Epoch 14/30\n",
      "487/487 [==============================] - 1s 1ms/step - loss: 0.8398 - accuracy: 0.7143 - val_loss: 0.8661 - val_accuracy: 0.7104\n",
      "Epoch 15/30\n",
      "487/487 [==============================] - 1s 1ms/step - loss: 0.8397 - accuracy: 0.7139 - val_loss: 0.8293 - val_accuracy: 0.7186\n",
      "Epoch 16/30\n",
      "487/487 [==============================] - 1s 1ms/step - loss: 0.8316 - accuracy: 0.7165 - val_loss: 0.8320 - val_accuracy: 0.7180\n",
      "Epoch 17/30\n",
      "487/487 [==============================] - 1s 1ms/step - loss: 0.8320 - accuracy: 0.7162 - val_loss: 0.8323 - val_accuracy: 0.7186\n",
      "Epoch 18/30\n",
      "487/487 [==============================] - 1s 1ms/step - loss: 0.8303 - accuracy: 0.7166 - val_loss: 0.8371 - val_accuracy: 0.7161\n",
      "Epoch 19/30\n",
      "487/487 [==============================] - 1s 1ms/step - loss: 0.8263 - accuracy: 0.7179 - val_loss: 0.8305 - val_accuracy: 0.7181\n",
      "Epoch 20/30\n",
      "487/487 [==============================] - 1s 1ms/step - loss: 0.8245 - accuracy: 0.7181 - val_loss: 0.8257 - val_accuracy: 0.7214\n",
      "Epoch 21/30\n",
      "487/487 [==============================] - 1s 1ms/step - loss: 0.8219 - accuracy: 0.7187 - val_loss: 0.8209 - val_accuracy: 0.7205\n",
      "Epoch 22/30\n",
      "487/487 [==============================] - 1s 1ms/step - loss: 0.8211 - accuracy: 0.7191 - val_loss: 0.8177 - val_accuracy: 0.7205\n",
      "Epoch 23/30\n",
      "487/487 [==============================] - 1s 1ms/step - loss: 0.8187 - accuracy: 0.7200 - val_loss: 0.8292 - val_accuracy: 0.7173\n",
      "Epoch 24/30\n",
      "487/487 [==============================] - 1s 1ms/step - loss: 0.8180 - accuracy: 0.7203 - val_loss: 0.8179 - val_accuracy: 0.7216\n",
      "Epoch 25/30\n",
      "487/487 [==============================] - 1s 1ms/step - loss: 0.8154 - accuracy: 0.7206 - val_loss: 0.8569 - val_accuracy: 0.7089\n",
      "Epoch 26/30\n",
      "487/487 [==============================] - 1s 1ms/step - loss: 0.8140 - accuracy: 0.7212 - val_loss: 0.8173 - val_accuracy: 0.7203\n",
      "Epoch 27/30\n",
      "487/487 [==============================] - 1s 1ms/step - loss: 0.8126 - accuracy: 0.7216 - val_loss: 0.8095 - val_accuracy: 0.7231\n",
      "Epoch 28/30\n",
      "487/487 [==============================] - 1s 1ms/step - loss: 0.8126 - accuracy: 0.7214 - val_loss: 0.8083 - val_accuracy: 0.7239\n",
      "Epoch 29/30\n",
      "487/487 [==============================] - 1s 1ms/step - loss: 0.8116 - accuracy: 0.7216 - val_loss: 0.8092 - val_accuracy: 0.7229\n",
      "Epoch 30/30\n",
      "487/487 [==============================] - 1s 1ms/step - loss: 0.8131 - accuracy: 0.7215 - val_loss: 0.8458 - val_accuracy: 0.7133\n"
     ]
    }
   ],
   "source": [
    "train = True\n",
    "\n",
    "if train:\n",
    "    adam = Adam(lr=0.0001)\n",
    "    model.compile(optimizer=adam, loss=['categorical_crossentropy'], metrics=['accuracy'])\n",
    "#     callbacks = all_callbacks(stop_patience = 1000,\n",
    "#                               lr_factor = 0.5,\n",
    "#                               lr_patience = 10,\n",
    "#                               lr_epsilon = 0.000001,\n",
    "#                               lr_cooldown = 2,\n",
    "#                               lr_minimum = 0.0000001,\n",
    "#                               outputDir = 'model_1')\n",
    "    model.fit(X_train_val, y_train_val, batch_size=1024, epochs=30, validation_split=0.25, shuffle=True)\n",
    "else:\n",
    "    from tensorflow.keras.models import load_model\n",
    "    model = load_model('model_1/KERAS_check_best_model.h5')"
   ]
  },
  {
   "cell_type": "code",
   "execution_count": 4,
   "id": "ecdbe2cc",
   "metadata": {},
   "outputs": [
    {
     "name": "stdout",
     "output_type": "stream",
     "text": [
      "Interpreting Sequential\n",
      "Topology:\n",
      "Layer name: fc1_input, layer type: Input\n",
      "Layer name: fc1, layer type: Dense\n",
      "  -> Activation (linear), layer name: fc1\n",
      "Layer name: relu1, layer type: Activation\n",
      "Layer name: fc2, layer type: Dense\n",
      "  -> Activation (linear), layer name: fc2\n",
      "Layer name: relu2, layer type: Activation\n",
      "Layer name: fc3, layer type: Dense\n",
      "  -> Activation (linear), layer name: fc3\n",
      "Layer name: relu3, layer type: Activation\n",
      "Layer name: output, layer type: Dense\n",
      "  -> Activation (linear), layer name: output\n",
      "Layer name: softmax, layer type: Activation\n",
      "-----------------------------------\n",
      "Configuration\n",
      "-----------------------------------\n",
      "Interpreting Sequential\n",
      "Topology:\n",
      "Layer name: fc1_input, layer type: InputLayer, input shapes: [[None, 16]], output shape: [None, 16]\n",
      "Layer name: fc1, layer type: Dense, input shapes: [[None, 16]], output shape: [None, 64]\n",
      "Layer name: relu1, layer type: Activation, input shapes: [[None, 64]], output shape: [None, 64]\n",
      "Layer name: fc2, layer type: Dense, input shapes: [[None, 64]], output shape: [None, 32]\n",
      "Layer name: relu2, layer type: Activation, input shapes: [[None, 32]], output shape: [None, 32]\n",
      "Layer name: fc3, layer type: Dense, input shapes: [[None, 32]], output shape: [None, 32]\n",
      "Layer name: relu3, layer type: Activation, input shapes: [[None, 32]], output shape: [None, 32]\n",
      "Layer name: output, layer type: Dense, input shapes: [[None, 32]], output shape: [None, 5]\n",
      "Layer name: softmax, layer type: Softmax, input shapes: [[None, 5]], output shape: [None, 5]\n",
      "Creating HLS model\n"
     ]
    },
    {
     "name": "stderr",
     "output_type": "stream",
     "text": [
      "/home/chmoser/miniconda3/envs/tf/lib/python3.9/site-packages/hls4ml/converters/__init__.py:16: UserWarning: WARNING: Pytorch converter is not enabled!\n",
      "  warnings.warn(\"WARNING: Pytorch converter is not enabled!\")\n"
     ]
    }
   ],
   "source": [
    "import hls4ml\n",
    "config = hls4ml.utils.config_from_keras_model(model, granularity='model')\n",
    "print(\"-----------------------------------\")\n",
    "print(\"Configuration\")\n",
    "# plotting.print_dict(config)\n",
    "print(\"-----------------------------------\")\n",
    "hls_model = hls4ml.converters.convert_from_keras_model(model,\n",
    "                                                       hls_config=config,\n",
    "                                                       output_dir='model_1/hls4ml_prj',\n",
    "                                                       part='xc7a100t_ftg256.bsd')"
   ]
  },
  {
   "cell_type": "code",
   "execution_count": 5,
   "id": "76a00fd1",
   "metadata": {},
   "outputs": [
    {
     "name": "stdout",
     "output_type": "stream",
     "text": [
      "Writing HLS project\n",
      "Done\n"
     ]
    }
   ],
   "source": [
    "hls_model.compile()\n",
    "X_test = np.ascontiguousarray(X_test)\n",
    "y_hls = hls_model.predict(X_test)"
   ]
  },
  {
   "cell_type": "code",
   "execution_count": 6,
   "id": "2b83dee7",
   "metadata": {},
   "outputs": [
    {
     "name": "stdout",
     "output_type": "stream",
     "text": [
      "5188/5188 [==============================] - 2s 351us/step\n",
      "Accuracy: 0.7117349397590361\n",
      "Keras  Accuracy: 0.7117349397590361\n",
      "hls4ml Accuracy: 0.20940361445783132\n"
     ]
    },
    {
     "data": {
      "text/plain": [
       "<matplotlib.legend.Legend at 0x7f821caa6220>"
      ]
     },
     "execution_count": 6,
     "metadata": {},
     "output_type": "execute_result"
    },
    {
     "data": {
      "text/plain": [
       "<Figure size 900x900 with 0 Axes>"
      ]
     },
     "metadata": {},
     "output_type": "display_data"
    },
    {
     "data": {
      "image/png": "[encoded data removed]",
      "text/plain": [
       "<Figure size 900x900 with 1 Axes>"
      ]
     },
     "metadata": {},
     "output_type": "display_data"
    }
   ],
   "source": [
    "import plotting\n",
    "import matplotlib.pyplot as plt\n",
    "from sklearn.metrics import accuracy_score\n",
    "y_keras = model.predict(X_test)\n",
    "print(\"Accuracy: {}\".format(accuracy_score(np.argmax(y_test, axis=1), np.argmax(y_keras, axis=1))))\n",
    "plt.figure(figsize=(9,9))\n",
    "# _ = plotting.makeRoc(y_test, y_keras, le.classes_)\n",
    "\n",
    "print(\"Keras  Accuracy: {}\".format(accuracy_score(np.argmax(y_test, axis=1), np.argmax(y_keras, axis=1))))\n",
    "print(\"hls4ml Accuracy: {}\".format(accuracy_score(np.argmax(y_test, axis=1), np.argmax(y_hls, axis=1))))\n",
    "\n",
    "fig, ax = plt.subplots(figsize=(9, 9))\n",
    "# _ = plotting.makeRoc(y_test, y_keras, le.classes_)\n",
    "plt.gca().set_prop_cycle(None) # reset the colors\n",
    "# _ = plotting.makeRoc(y_test, y_hls, le.classes_, linestyle='--')\n",
    "\n",
    "from matplotlib.lines import Line2D\n",
    "lines = [Line2D([0], [0], ls='-'),\n",
    "         Line2D([0], [0], ls='--')]\n",
    "from matplotlib.legend import Legend\n",
    "leg = Legend(ax, lines, labels=['keras', 'hls4ml'],\n",
    "            loc='lower right', frameon=False)\n",
    "ax.add_artist(leg)"
   ]
  },
  {
   "cell_type": "code",
   "execution_count": 7,
   "id": "d8865b98",
   "metadata": {},
   "outputs": [
    {
     "ename": "Exception",
     "evalue": "Vivado HLS installation not found. Make sure \"vivado_hls\" is on PATH.",
     "output_type": "error",
     "traceback": [
      "\u001b[0;31m---------------------------------------------------------------------------\u001b[0m",
      "\u001b[0;31mException\u001b[0m                                 Traceback (most recent call last)",
      "Cell \u001b[0;32mIn[7], line 1\u001b[0m\n\u001b[0;32m----> 1\u001b[0m \u001b[43mhls_model\u001b[49m\u001b[38;5;241;43m.\u001b[39;49m\u001b[43mbuild\u001b[49m\u001b[43m(\u001b[49m\u001b[43mcsim\u001b[49m\u001b[38;5;241;43m=\u001b[39;49m\u001b[38;5;28;43;01mFalse\u001b[39;49;00m\u001b[43m)\u001b[49m\n",
      "File \u001b[0;32m~/miniconda3/envs/tf/lib/python3.9/site-packages/hls4ml/model/hls_model.py:722\u001b[0m, in \u001b[0;36mHLSModel.build\u001b[0;34m(self, reset, csim, synth, cosim, validation, export, vsynth)\u001b[0m\n\u001b[1;32m    720\u001b[0m     found \u001b[38;5;241m=\u001b[39m os\u001b[38;5;241m.\u001b[39msystem(\u001b[38;5;124m'\u001b[39m\u001b[38;5;124mcommand -v vivado_hls > /dev/null\u001b[39m\u001b[38;5;124m'\u001b[39m)\n\u001b[1;32m    721\u001b[0m     \u001b[38;5;28;01mif\u001b[39;00m found \u001b[38;5;241m!=\u001b[39m \u001b[38;5;241m0\u001b[39m:\n\u001b[0;32m--> 722\u001b[0m         \u001b[38;5;28;01mraise\u001b[39;00m \u001b[38;5;167;01mException\u001b[39;00m(\u001b[38;5;124m'\u001b[39m\u001b[38;5;124mVivado HLS installation not found. Make sure \u001b[39m\u001b[38;5;124m\"\u001b[39m\u001b[38;5;124mvivado_hls\u001b[39m\u001b[38;5;124m\"\u001b[39m\u001b[38;5;124m is on PATH.\u001b[39m\u001b[38;5;124m'\u001b[39m)\n\u001b[1;32m    724\u001b[0m \u001b[38;5;28;01melif\u001b[39;00m backend \u001b[38;5;241m==\u001b[39m \u001b[38;5;124m'\u001b[39m\u001b[38;5;124mIntel\u001b[39m\u001b[38;5;124m'\u001b[39m:\n\u001b[1;32m    725\u001b[0m     \u001b[38;5;28;01mraise\u001b[39;00m \u001b[38;5;167;01mNotImplementedError\u001b[39;00m\n",
      "\u001b[0;31mException\u001b[0m: Vivado HLS installation not found. Make sure \"vivado_hls\" is on PATH."
     ]
    }
   ],
   "source": [
    "hls_model.build(csim=False)"
   ]
  },
  {
   "cell_type": "code",
   "execution_count": 8,
   "id": "576998e0",
   "metadata": {},
   "outputs": [
    {
     "name": "stdout",
     "output_type": "stream",
     "text": [
      "Writing HLS project\n",
      "Done\n"
     ]
    },
    {
     "ename": "OSError",
     "evalue": "libdl.so: cannot open shared object file: No such file or directory",
     "output_type": "error",
     "traceback": [
      "\u001b[0;31m---------------------------------------------------------------------------\u001b[0m",
      "\u001b[0;31mOSError\u001b[0m                                   Traceback (most recent call last)",
      "Cell \u001b[0;32mIn[8], line 1\u001b[0m\n\u001b[0;32m----> 1\u001b[0m \u001b[43mhls_model\u001b[49m\u001b[38;5;241;43m.\u001b[39;49m\u001b[43mcompile\u001b[49m\u001b[43m(\u001b[49m\u001b[43m)\u001b[49m\n",
      "File \u001b[0;32m~/miniconda3/envs/tf/lib/python3.9/site-packages/hls4ml/model/hls_model.py:539\u001b[0m, in \u001b[0;36mHLSModel.compile\u001b[0;34m(self)\u001b[0m\n\u001b[1;32m    536\u001b[0m \u001b[38;5;28;01mif\u001b[39;00m \u001b[38;5;28mself\u001b[39m\u001b[38;5;241m.\u001b[39m_top_function_lib \u001b[38;5;129;01mis\u001b[39;00m \u001b[38;5;129;01mnot\u001b[39;00m \u001b[38;5;28;01mNone\u001b[39;00m:\n\u001b[1;32m    538\u001b[0m     \u001b[38;5;28;01mif\u001b[39;00m platform\u001b[38;5;241m.\u001b[39msystem() \u001b[38;5;241m==\u001b[39m \u001b[38;5;124m\"\u001b[39m\u001b[38;5;124mLinux\u001b[39m\u001b[38;5;124m\"\u001b[39m:\n\u001b[0;32m--> 539\u001b[0m         dlclose_func \u001b[38;5;241m=\u001b[39m \u001b[43mctypes\u001b[49m\u001b[38;5;241;43m.\u001b[39;49m\u001b[43mCDLL\u001b[49m\u001b[43m(\u001b[49m\u001b[38;5;124;43m'\u001b[39;49m\u001b[38;5;124;43mlibdl.so\u001b[39;49m\u001b[38;5;124;43m'\u001b[39;49m\u001b[43m)\u001b[49m\u001b[38;5;241m.\u001b[39mdlclose\n\u001b[1;32m    540\u001b[0m     \u001b[38;5;28;01melif\u001b[39;00m platform\u001b[38;5;241m.\u001b[39msystem() \u001b[38;5;241m==\u001b[39m \u001b[38;5;124m\"\u001b[39m\u001b[38;5;124mDarwin\u001b[39m\u001b[38;5;124m\"\u001b[39m:\n\u001b[1;32m    541\u001b[0m         dlclose_func \u001b[38;5;241m=\u001b[39m ctypes\u001b[38;5;241m.\u001b[39mCDLL(\u001b[38;5;124m'\u001b[39m\u001b[38;5;124mlibc.dylib\u001b[39m\u001b[38;5;124m'\u001b[39m)\u001b[38;5;241m.\u001b[39mdlclose\n",
      "File \u001b[0;32m~/miniconda3/envs/tf/lib/python3.9/ctypes/__init__.py:382\u001b[0m, in \u001b[0;36mCDLL.__init__\u001b[0;34m(self, name, mode, handle, use_errno, use_last_error, winmode)\u001b[0m\n\u001b[1;32m    379\u001b[0m \u001b[38;5;28mself\u001b[39m\u001b[38;5;241m.\u001b[39m_FuncPtr \u001b[38;5;241m=\u001b[39m _FuncPtr\n\u001b[1;32m    381\u001b[0m \u001b[38;5;28;01mif\u001b[39;00m handle \u001b[38;5;129;01mis\u001b[39;00m \u001b[38;5;28;01mNone\u001b[39;00m:\n\u001b[0;32m--> 382\u001b[0m     \u001b[38;5;28mself\u001b[39m\u001b[38;5;241m.\u001b[39m_handle \u001b[38;5;241m=\u001b[39m \u001b[43m_dlopen\u001b[49m\u001b[43m(\u001b[49m\u001b[38;5;28;43mself\u001b[39;49m\u001b[38;5;241;43m.\u001b[39;49m\u001b[43m_name\u001b[49m\u001b[43m,\u001b[49m\u001b[43m \u001b[49m\u001b[43mmode\u001b[49m\u001b[43m)\u001b[49m\n\u001b[1;32m    383\u001b[0m \u001b[38;5;28;01melse\u001b[39;00m:\n\u001b[1;32m    384\u001b[0m     \u001b[38;5;28mself\u001b[39m\u001b[38;5;241m.\u001b[39m_handle \u001b[38;5;241m=\u001b[39m handle\n",
      "\u001b[0;31mOSError\u001b[0m: libdl.so: cannot open shared object file: No such file or directory"
     ]
    }
   ],
   "source": [
    "hls_model.compile()"
   ]
  },
  {
   "cell_type": "code",
   "execution_count": null,
   "id": "ea7087bc",
   "metadata": {},
   "outputs": [],
   "source": []
  },
  {
   "cell_type": "code",
   "execution_count": null,
   "id": "757abbb6",
   "metadata": {},
   "outputs": [],
   "source": []
  },
  {
   "cell_type": "code",
   "execution_count": null,
   "id": "44b9e094",
   "metadata": {},
   "outputs": [],
   "source": []
  }
 ],
 "metadata": {
  "kernelspec": {
   "display_name": "Python 3",
   "language": "python",
   "name": "python3"
  },
  "language_info": {
   "codemirror_mode": {
    "name": "ipython",
    "version": 3
   },
   "file_extension": ".py",
   "mimetype": "text/x-python",
   "name": "python",
   "nbconvert_exporter": "python",
   "pygments_lexer": "ipython3",
   "version": "3.9.15"
  }
 },
 "nbformat": 4,
 "nbformat_minor": 5
}
