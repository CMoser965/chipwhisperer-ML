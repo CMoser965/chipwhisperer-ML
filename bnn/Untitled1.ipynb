{
 "cells": [
  {
   "cell_type": "code",
   "execution_count": 1,
   "id": "4667fa42",
   "metadata": {},
   "outputs": [
    {
     "name": "stdout",
     "output_type": "stream",
     "text": [
      "Model: \"sequential\"\n",
      "_________________________________________________________________\n",
      " Layer (type)                Output Shape              Param #   \n",
      "=================================================================\n",
      " dense (Dense)               (None, 30)                1200      \n",
      "                                                                 \n",
      " batch_normalization (BatchN  (None, 30)               120       \n",
      " ormalization)                                                   \n",
      "                                                                 \n",
      " activation (Activation)     (None, 30)                0         \n",
      "                                                                 \n",
      " dense_1 (Dense)             (None, 20)                600       \n",
      "                                                                 \n",
      " batch_normalization_1 (Batc  (None, 20)               80        \n",
      " hNormalization)                                                 \n",
      "                                                                 \n",
      " activation_1 (Activation)   (None, 20)                0         \n",
      "                                                                 \n",
      " dense_2 (Dense)             (None, 10)                200       \n",
      "                                                                 \n",
      " batch_normalization_2 (Batc  (None, 10)               40        \n",
      " hNormalization)                                                 \n",
      "                                                                 \n",
      " activation_2 (Activation)   (None, 10)                0         \n",
      "                                                                 \n",
      " dense_3 (Dense)             (None, 1)                 10        \n",
      "                                                                 \n",
      "=================================================================\n",
      "Total params: 2,250\n",
      "Trainable params: 2,130\n",
      "Non-trainable params: 120\n",
      "_________________________________________________________________\n"
     ]
    }
   ],
   "source": [
    "import tensorflow as tf\n",
    "\n",
    "def create_model(input_shape=(40,)):\n",
    "  # Create a 3-hidden-layer fully-connected NN\n",
    "  model = tf.keras.Sequential()\n",
    "  model.add(tf.keras.layers.InputLayer(input_shape=input_shape))\n",
    "  model.add(tf.keras.layers.Dense(30, kernel_initializer='glorot_uniform', use_bias=False, activation=None, name='dense'))\n",
    "  model.add(tf.keras.layers.BatchNormalization(momentum=0.99, epsilon=1e-4, name='batch_normalization'))\n",
    "  model.add(tf.keras.layers.Activation('tanh', name='activation'))\n",
    "  model.add(tf.keras.layers.Dense(20, kernel_initializer='glorot_uniform', use_bias=False, activation=None, name='dense_1'))\n",
    "  model.add(tf.keras.layers.BatchNormalization(momentum=0.99, epsilon=1e-4, name='batch_normalization_1'))\n",
    "  model.add(tf.keras.layers.Activation('tanh', name='activation_1'))\n",
    "  model.add(tf.keras.layers.Dense(10, kernel_initializer='glorot_uniform', use_bias=False, activation=None, name='dense_2'))\n",
    "  model.add(tf.keras.layers.BatchNormalization(momentum=0.99, epsilon=1e-4, name='batch_normalization_2'))\n",
    "  model.add(tf.keras.layers.Activation('tanh', name='activation_2'))\n",
    "  model.add(tf.keras.layers.Dense(1, kernel_initializer='glorot_uniform', use_bias=False, activation=None, name='dense_3'))\n",
    "  model.compile(loss='mse', optimizer='adam')\n",
    "  model.summary()\n",
    "  return model\n",
    "\n",
    "def save_model(model, name=None):\n",
    "  # Save as model.h5, model_weights.h5, and model.json\n",
    "  if name is None:\n",
    "    name = model.name\n",
    "  model.save(name + '.h5')\n",
    "  model.save_weights(name + '_weights.h5')\n",
    "  with open(name + '.json', 'w') as outfile:\n",
    "    outfile.write(model.to_json())\n",
    "  return\n",
    "\n",
    "if __name__ == '__main__':\n",
    "  model = create_model()\n",
    "  save_model(model, name='model')"
   ]
  },
  {
   "cell_type": "code",
   "execution_count": 2,
   "id": "977399bb",
   "metadata": {},
   "outputs": [
    {
     "name": "stdout",
     "output_type": "stream",
     "text": [
      "Model: \"sequential_1\"\n",
      "_________________________________________________________________\n",
      " Layer (type)                Output Shape              Param #   \n",
      "=================================================================\n",
      " dense (Dense)               (None, 30)                1200      \n",
      "                                                                 \n",
      " batch_normalization (BatchN  (None, 30)               120       \n",
      " ormalization)                                                   \n",
      "                                                                 \n",
      " activation (Activation)     (None, 30)                0         \n",
      "                                                                 \n",
      " dense_1 (Dense)             (None, 20)                600       \n",
      "                                                                 \n",
      " batch_normalization_1 (Batc  (None, 20)               80        \n",
      " hNormalization)                                                 \n",
      "                                                                 \n",
      " activation_1 (Activation)   (None, 20)                0         \n",
      "                                                                 \n",
      " dense_2 (Dense)             (None, 10)                200       \n",
      "                                                                 \n",
      " batch_normalization_2 (Batc  (None, 10)               40        \n",
      " hNormalization)                                                 \n",
      "                                                                 \n",
      " activation_2 (Activation)   (None, 10)                0         \n",
      "                                                                 \n",
      " dense_3 (Dense)             (None, 1)                 10        \n",
      "                                                                 \n",
      "=================================================================\n",
      "Total params: 2,250\n",
      "Trainable params: 2,130\n",
      "Non-trainable params: 120\n",
      "_________________________________________________________________\n"
     ]
    }
   ],
   "source": [
    "model = create_model()\n",
    "save_model(model, name='model')"
   ]
  },
  {
   "cell_type": "code",
   "execution_count": 3,
   "id": "21995bfa",
   "metadata": {},
   "outputs": [
    {
     "name": "stdout",
     "output_type": "stream",
     "text": [
      "Interpreting Sequential\n",
      "Topology:\n",
      "Layer name: input_2, layer type: Input\n",
      "Layer name: dense, layer type: Dense\n",
      "  -> Activation (linear), layer name: dense\n",
      "Layer name: batch_normalization, layer type: BatchNormalization\n",
      "Layer name: activation, layer type: Activation\n",
      "Layer name: dense_1, layer type: Dense\n",
      "  -> Activation (linear), layer name: dense_1\n",
      "Layer name: batch_normalization_1, layer type: BatchNormalization\n",
      "Layer name: activation_1, layer type: Activation\n",
      "Layer name: dense_2, layer type: Dense\n",
      "  -> Activation (linear), layer name: dense_2\n",
      "Layer name: batch_normalization_2, layer type: BatchNormalization\n",
      "Layer name: activation_2, layer type: Activation\n",
      "Layer name: dense_3, layer type: Dense\n",
      "  -> Activation (linear), layer name: dense_3\n"
     ]
    },
    {
     "name": "stderr",
     "output_type": "stream",
     "text": [
      "/home/chmoser/miniconda3/envs/tf/lib/python3.9/site-packages/tqdm/auto.py:22: TqdmWarning: IProgress not found. Please update jupyter and ipywidgets. See https://ipywidgets.readthedocs.io/en/stable/user_install.html\n",
      "  from .autonotebook import tqdm as notebook_tqdm\n"
     ]
    }
   ],
   "source": [
    "import hls4ml\n",
    "config = hls4ml.utils.config_from_keras_model(model, granularity='name')"
   ]
  },
  {
   "cell_type": "code",
   "execution_count": 4,
   "id": "93cd99d0",
   "metadata": {},
   "outputs": [
    {
     "name": "stdout",
     "output_type": "stream",
     "text": [
      "Interpreting Sequential\n",
      "Topology:\n",
      "Layer name: input_2, layer type: InputLayer, input shapes: [[None, 40]], output shape: [None, 40]\n",
      "Layer name: dense, layer type: Dense, input shapes: [[None, 40]], output shape: [None, 30]\n",
      "Layer name: batch_normalization, layer type: BatchNormalization, input shapes: [[None, 30]], output shape: [None, 30]\n",
      "Layer name: activation, layer type: Activation, input shapes: [[None, 30]], output shape: [None, 30]\n",
      "Layer name: dense_1, layer type: Dense, input shapes: [[None, 30]], output shape: [None, 20]\n",
      "Layer name: batch_normalization_1, layer type: BatchNormalization, input shapes: [[None, 20]], output shape: [None, 20]\n",
      "Layer name: activation_1, layer type: Activation, input shapes: [[None, 20]], output shape: [None, 20]\n",
      "Layer name: dense_2, layer type: Dense, input shapes: [[None, 20]], output shape: [None, 10]\n",
      "Layer name: batch_normalization_2, layer type: BatchNormalization, input shapes: [[None, 10]], output shape: [None, 10]\n",
      "Layer name: activation_2, layer type: Activation, input shapes: [[None, 10]], output shape: [None, 10]\n",
      "Layer name: dense_3, layer type: Dense, input shapes: [[None, 10]], output shape: [None, 1]\n",
      "Creating HLS model\n"
     ]
    }
   ],
   "source": [
    "hls_model = hls4ml.converters.convert_from_keras_model(model, hls_config=config, output_dir='test_prj')"
   ]
  },
  {
   "cell_type": "code",
   "execution_count": 7,
   "id": "66056ff8",
   "metadata": {},
   "outputs": [
    {
     "name": "stdout",
     "output_type": "stream",
     "text": [
      "Writing HLS project\n",
      "Done\n"
     ]
    }
   ],
   "source": [
    "hls_model.write()"
   ]
  },
  {
   "cell_type": "code",
   "execution_count": 1,
   "id": "7ebcc901",
   "metadata": {},
   "outputs": [
    {
     "ename": "NameError",
     "evalue": "name 'shape' is not defined",
     "output_type": "error",
     "traceback": [
      "\u001b[0;31m---------------------------------------------------------------------------\u001b[0m",
      "\u001b[0;31mNameError\u001b[0m                                 Traceback (most recent call last)",
      "Cell \u001b[0;32mIn[1], line 4\u001b[0m\n\u001b[1;32m      1\u001b[0m \u001b[38;5;28;01mfrom\u001b[39;00m \u001b[38;5;21;01mkeras\u001b[39;00m\u001b[38;5;21;01m.\u001b[39;00m\u001b[38;5;21;01mlayers\u001b[39;00m \u001b[38;5;28;01mimport\u001b[39;00m \u001b[38;5;241m*\u001b[39m\n\u001b[1;32m      2\u001b[0m \u001b[38;5;28;01mfrom\u001b[39;00m \u001b[38;5;21;01mqkeras\u001b[39;00m \u001b[38;5;28;01mimport\u001b[39;00m \u001b[38;5;241m*\u001b[39m\n\u001b[0;32m----> 4\u001b[0m x \u001b[38;5;241m=\u001b[39m x_in \u001b[38;5;241m=\u001b[39m Input(\u001b[43mshape\u001b[49m)\n\u001b[1;32m      5\u001b[0m x \u001b[38;5;241m=\u001b[39m QConv2D(\u001b[38;5;241m18\u001b[39m, (\u001b[38;5;241m3\u001b[39m, \u001b[38;5;241m3\u001b[39m),\n\u001b[1;32m      6\u001b[0m         kernel_quantizer\u001b[38;5;241m=\u001b[39m\u001b[38;5;124m\"\u001b[39m\u001b[38;5;124mstochastic_ternary\u001b[39m\u001b[38;5;124m\"\u001b[39m,\n\u001b[1;32m      7\u001b[0m         bias_quantizer\u001b[38;5;241m=\u001b[39m\u001b[38;5;124m\"\u001b[39m\u001b[38;5;124mternary\u001b[39m\u001b[38;5;124m\"\u001b[39m, name\u001b[38;5;241m=\u001b[39m\u001b[38;5;124m\"\u001b[39m\u001b[38;5;124mfirst_conv2d\u001b[39m\u001b[38;5;124m\"\u001b[39m)(x)\n\u001b[1;32m      8\u001b[0m x \u001b[38;5;241m=\u001b[39m QActivation(\u001b[38;5;124m\"\u001b[39m\u001b[38;5;124mquantized_relu(3)\u001b[39m\u001b[38;5;124m\"\u001b[39m)(x)\n",
      "\u001b[0;31mNameError\u001b[0m: name 'shape' is not defined"
     ]
    }
   ],
   "source": [
    "from keras.layers import *\n",
    "from qkeras import *\n",
    "\n",
    "x = x_in = Input(shape)\n",
    "x = QConv2D(18, (3, 3),\n",
    "        kernel_quantizer=\"stochastic_ternary\",\n",
    "        bias_quantizer=\"ternary\", name=\"first_conv2d\")(x)\n",
    "x = QActivation(\"quantized_relu(3)\")(x)\n",
    "x = QSeparableConv2D(32, (3, 3),\n",
    "        depthwise_quantizer=quantized_bits(4, 0, 1),\n",
    "        pointwise_quantizer=quantized_bits(3, 0, 1),\n",
    "        bias_quantizer=quantized_bits(3),\n",
    "        depthwise_activation=quantized_tanh(6, 2, 1))(x)\n",
    "x = QActivation(\"quantized_relu(3)\")(x)\n",
    "x = Flatten()(x)\n",
    "x = QDense(NB_CLASSES,\n",
    "        kernel_quantizer=quantized_bits(3),\n",
    "        bias_quantizer=quantized_bits(3))(x)\n",
    "x = QActivation(\"quantized_bits(20, 5)\")(x)\n",
    "x = Activation(\"softmax\")(x)"
   ]
  },
  {
   "cell_type": "code",
   "execution_count": null,
   "id": "5efc387d",
   "metadata": {},
   "outputs": [],
   "source": []
  }
 ],
 "metadata": {
  "kernelspec": {
   "display_name": "Python 3",
   "language": "python",
   "name": "python3"
  },
  "language_info": {
   "codemirror_mode": {
    "name": "ipython",
    "version": 3
   },
   "file_extension": ".py",
   "mimetype": "text/x-python",
   "name": "python",
   "nbconvert_exporter": "python",
   "pygments_lexer": "ipython3",
   "version": "3.9.15"
  }
 },
 "nbformat": 4,
 "nbformat_minor": 5
}
